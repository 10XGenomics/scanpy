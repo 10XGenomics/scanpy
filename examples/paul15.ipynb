{
 "cells": [
  {
   "cell_type": "markdown",
   "metadata": {
    "collapsed": false
   },
   "source": [
    "# Analysis of data of Paul et al. (2015)"
   ]
  },
  {
   "cell_type": "markdown",
   "metadata": {},
   "source": [
    "This is based on a more extensive R tutorial by M. Büttner available from https://github.com/theislab/scAnalysisTutorial."
   ]
  },
  {
   "cell_type": "code",
   "execution_count": 1,
   "metadata": {
    "collapsed": false
   },
   "outputs": [],
   "source": [
    "from sys import path\n",
    "path.insert(0,'..')\n",
    "import scanpy as sc\n",
    "import numpy as np\n",
    "\n",
    "# set very low png resolution, to decrease storage space\n",
    "sc.sett.dpi(30)\n",
    "# show some output\n",
    "sc.sett.verbosity = 1"
   ]
  },
  {
   "cell_type": "markdown",
   "metadata": {},
   "source": [
    "Get the data."
   ]
  },
  {
   "cell_type": "code",
   "execution_count": 2,
   "metadata": {
    "collapsed": false
   },
   "outputs": [],
   "source": [
    "def paul15_raw():\n",
    "    filename = 'data/paul15/paul15.h5'\n",
    "    url = 'http://falexwolf.de/data/paul15.h5'\n",
    "    ddata = sc.read(filename, 'data.debatched', backup_url=url)\n",
    "    # the data has to be transposed (in the hdf5 and R files, each row                                                                                                               \n",
    "    # corresponds to one gene, we use the opposite convention)                                                                                                                       \n",
    "    ddata = sc.transpose_ddata(ddata)\n",
    "    # define local variables to manipulate                                                                                                                                           \n",
    "    X = ddata['X']\n",
    "    genenames = ddata['colnames']\n",
    "    # cluster assocations identified by Paul et al.                                                                                                                                  \n",
    "    # groupnames_n = sc.read(filename,'cluster.id')['X']                                                                                                                             \n",
    "    infogenenames = sc.read(filename, 'info.genes_strings')['X']\n",
    "    # print('the first 10 informative gene names are', infogenenames[:10])\n",
    "    # just keep the first of the equivalent names for each gene                                                                                                                      \n",
    "    genenames = np.array([gn.split(';')[0] for gn in genenames])\n",
    "    # print('the first 10 trunkated gene names are', genenames[:10])\n",
    "    # mask array for the informative genes                                                                                                                                           \n",
    "    infogenes_idcs = np.array([(True if gn in infogenenames else False)\n",
    "                                for gn in genenames])\n",
    "    # restrict data array to the 3451 informative genes                                                                                                                              \n",
    "    X = X[:, infogenes_idcs]\n",
    "    genenames = genenames[infogenes_idcs]\n",
    "    # print('after selecting info genes, the first 10 gene names are',\n",
    "    #          genenames[:10])\n",
    "    # write to dict                                                                                                                                                                  \n",
    "    ddata['X'] = X\n",
    "    ddata['colnames'] = genenames\n",
    "    # set root cell as in Haghverdi et al. (2016)                                                                                                                                    \n",
    "    ddata['xroot'] = X[840] # note that in Matlab/R, counting starts at 1 \n",
    "    return ddata"
   ]
  },
  {
   "cell_type": "code",
   "execution_count": 3,
   "metadata": {
    "collapsed": false
   },
   "outputs": [
    {
     "name": "stdout",
     "output_type": "stream",
     "text": [
      "reading sheet data.debatched from file ../data/paul15/paul15.h5\n",
      "reading sheet info.genes_strings from file ../data/paul15/paul15.h5\n",
      "computing Diffusion Map with method \"local\"\n",
      "0:00:17.432 - computed distance matrix with metric = sqeuclidean\n",
      "0:00:00.101 - determined k = 20 nearest neighbors of each point\n",
      "0:00:00.426 - computed W (weight matrix) with \"knn\" = True\n",
      "0:00:00.048 - computed K (anisotropic kernel)\n",
      "0:00:00.096 - computed Ktilde (normalized anistropic kernel)\n",
      "0:00:00.998 - computed Ktilde's eigenvalues:\n",
      "[ 1.                0.99284239124065  0.96918877360182  0.94440982539501\n",
      "  0.93200680698376  0.8945161846998   0.87862932487111  0.85561150822895\n",
      "  0.84358415344857  0.82316095171039]\n",
      "perform Diffusion Pseudotime Analysis\n",
      "0:00:00.985 - computed M matrix\n",
      "0:00:11.296 - computed Ddiff distance matrix\n",
      "detect 1 branchings\n",
      "tip points [1687  877 2156] = [third start end]\n",
      "0:00:00.699 - finished branching detection\n"
     ]
    },
    {
     "data": {
      "image/png": "[encoded data removed]",
      "text/plain": [
       "<matplotlib.figure.Figure at 0x107dfcf10>"
      ]
     },
     "metadata": {},
     "output_type": "display_data"
    },
    {
     "data": {
      "image/png": "[encoded data removed]",
      "text/plain": [
       "<matplotlib.figure.Figure at 0x114d71850>"
      ]
     },
     "metadata": {},
     "output_type": "display_data"
    }
   ],
   "source": [
    "ddata = paul15_raw()\n",
    "ddata = sc.subsample(ddata, 1)\n",
    "ddata = sc.preprocess(ddata, 'log')\n",
    "\n",
    "# perform DPT analysis\n",
    "ddpt = sc.dpt(ddata, k=20, knn=True)\n",
    "ddpt['groupnames'] = ['','GMP','','MEP']\n",
    "sc.plot(ddpt, ddata)"
   ]
  },
  {
   "cell_type": "code",
   "execution_count": 4,
   "metadata": {
    "collapsed": false
   },
   "outputs": [
    {
     "name": "stdout",
     "output_type": "stream",
     "text": [
      "testing groups ['GMP' 'MEP'] with ids [1 3]\n"
     ]
    },
    {
     "data": {
      "image/png": "[encoded data removed]",
      "text/plain": [
       "<matplotlib.figure.Figure at 0x114ed2510>"
      ]
     },
     "metadata": {},
     "output_type": "display_data"
    }
   ],
   "source": [
    "# perform differential gene expression test\n",
    "ddifftest = sc.difftest(ddpt, ddata, groupnames=['GMP','MEP'], log=False)\n",
    "sc.plot(ddifftest,ddata)"
   ]
  }
 ],
 "metadata": {
  "anaconda-cloud": {},
  "kernelspec": {
   "display_name": "Python [conda env:py27]",
   "language": "python",
   "name": "conda-env-py27-py"
  },
  "language_info": {
   "codemirror_mode": {
    "name": "ipython",
    "version": 2
   },
   "file_extension": ".py",
   "mimetype": "text/x-python",
   "name": "python",
   "nbconvert_exporter": "python",
   "pygments_lexer": "ipython2",
   "version": "2.7.13"
  }
 },
 "nbformat": 4,
 "nbformat_minor": 0
}
