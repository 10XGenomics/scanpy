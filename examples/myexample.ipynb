{
 "cells": [
  {
   "cell_type": "markdown",
   "metadata": {},
   "source": [
    "# My example"
   ]
  },
  {
   "cell_type": "markdown",
   "metadata": {},
   "source": [
    "My example."
   ]
  },
  {
   "cell_type": "code",
   "execution_count": 13,
   "metadata": {
    "collapsed": false
   },
   "outputs": [],
   "source": [
    "from sys import path\n",
    "path.insert(0,'..')\n",
    "import scanpy as sc\n",
    "\n",
    "# set png resolution\n",
    "sc.sett.dpi(60)\n",
    "# show some output\n",
    "sc.sett.verbosity = 1"
   ]
  },
  {
   "cell_type": "code",
   "execution_count": 14,
   "metadata": {
    "collapsed": false
   },
   "outputs": [],
   "source": [
    "def myexample():\n",
    "\n",
    "    # get help                                                                                                                                                                       \n",
    "    # help(sc.read)                                                                                                                                                                  \n",
    "\n",
    "    # read data from any path on your system                                                                                                                                         \n",
    "    path_to_data = 'data/myexample/'\n",
    "    ddata = sc.read(path_to_data + 'myexample.csv')\n",
    "\n",
    "    # other data reading examples                                                                                                                                                    \n",
    "    # ddata = sc.read(path_to_data + 'myexample.csv', first_column_names=True)                                                                                                       \n",
    "    # ddata = sc.read(path_to_data + 'myexample.h5', sheet='countmatrix')                                                                                                            \n",
    "    # ddata = sc.read(path_to_data + 'myexample.xlsx', sheet='countmatrix')                                                                                                          \n",
    "    # ddata = sc.read(path_to_data + 'myexample.txt', sheet='countmatrix')                                                                                                           \n",
    "    # ddata = sc.read(path_to_data + 'myexample.txt.gz', sheet='countmatrix')                                                                                                        \n",
    "    # ddata = sc.read(path_to_data + 'myexample.soft.gz', sheet='countmatrix')                                                                                                       \n",
    "\n",
    "    # in ddata['X'], rows should correspond to samples, columns to genes                                                                                                             \n",
    "    # to match this convention, transpose your data if necessary                                                                                                                     \n",
    "    # ddata = utils.transpose_ddata(ddata)                                                                                                                                           \n",
    "\n",
    "    # get groupnames (as strings)                                                                                                                                                    \n",
    "    dgroups = sc.read(path_to_data + 'mygroups.csv', as_strings=True)\n",
    "    ddata['groupnames_n'] = dgroups['X'][:, 0]\n",
    "\n",
    "    # specify root cell                                                                                                                                                              \n",
    "    ddata['xroot'] = ddata['X'][336]\n",
    "\n",
    "    return ddata"
   ]
  },
  {
   "cell_type": "code",
   "execution_count": null,
   "metadata": {
    "collapsed": false
   },
   "outputs": [],
   "source": [
    "ddata = myexample()\n",
    "ddpt = sc.dpt(ddata, num_branchings=2)\n",
    "sc.plot(ddpt, ddata, layout='3d', legendloc='upper left')"
   ]
  }
 ],
 "metadata": {
  "anaconda-cloud": {},
  "kernelspec": {
   "display_name": "Python [conda env:py27]",
   "language": "python",
   "name": "conda-env-py27-py"
  },
  "language_info": {
   "codemirror_mode": {
    "name": "ipython",
    "version": 2
   },
   "file_extension": ".py",
   "mimetype": "text/x-python",
   "name": "python",
   "nbconvert_exporter": "python",
   "pygments_lexer": "ipython2",
   "version": "2.7.13"
  }
 },
 "nbformat": 4,
 "nbformat_minor": 2
}
